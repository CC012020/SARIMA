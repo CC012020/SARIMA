{
 "cells": [
  {
   "cell_type": "code",
   "execution_count": 1,
   "metadata": {},
   "outputs": [
    {
     "name": "stdout",
     "output_type": "stream",
     "text": [
      "Requirement already satisfied: pmdarima in /srv/conda/envs/notebook/lib/python3.7/site-packages (1.7.0)\n",
      "Requirement already satisfied: scikit-learn>=0.22 in /srv/conda/envs/notebook/lib/python3.7/site-packages (from pmdarima) (0.23.2)\n",
      "Requirement already satisfied: Cython<0.29.18,>=0.29 in /srv/conda/envs/notebook/lib/python3.7/site-packages (from pmdarima) (0.29.17)\n",
      "Requirement already satisfied: statsmodels>=0.11 in /srv/conda/envs/notebook/lib/python3.7/site-packages (from pmdarima) (0.11.1)\n",
      "Requirement already satisfied: numpy>=1.17.3 in /srv/conda/envs/notebook/lib/python3.7/site-packages (from pmdarima) (1.18.5)\n",
      "Requirement already satisfied: scipy>=1.3.2 in /srv/conda/envs/notebook/lib/python3.7/site-packages (from pmdarima) (1.5.0)\n",
      "Requirement already satisfied: joblib>=0.11 in /srv/conda/envs/notebook/lib/python3.7/site-packages (from pmdarima) (0.16.0)\n",
      "Requirement already satisfied: urllib3 in /srv/conda/envs/notebook/lib/python3.7/site-packages (from pmdarima) (1.25.9)\n",
      "Requirement already satisfied: pandas>=0.19 in /srv/conda/envs/notebook/lib/python3.7/site-packages (from pmdarima) (0.24.2)\n",
      "Requirement already satisfied: threadpoolctl>=2.0.0 in /srv/conda/envs/notebook/lib/python3.7/site-packages (from scikit-learn>=0.22->pmdarima) (2.1.0)\n",
      "Requirement already satisfied: patsy>=0.5 in /srv/conda/envs/notebook/lib/python3.7/site-packages (from statsmodels>=0.11->pmdarima) (0.5.1)\n",
      "Requirement already satisfied: python-dateutil>=2.5.0 in /srv/conda/envs/notebook/lib/python3.7/site-packages (from pandas>=0.19->pmdarima) (2.8.1)\n",
      "Requirement already satisfied: pytz>=2011k in /srv/conda/envs/notebook/lib/python3.7/site-packages (from pandas>=0.19->pmdarima) (2020.1)\n",
      "Requirement already satisfied: six in /srv/conda/envs/notebook/lib/python3.7/site-packages (from patsy>=0.5->statsmodels>=0.11->pmdarima) (1.15.0)\n",
      "Note: you may need to restart the kernel to use updated packages.\n"
     ]
    }
   ],
   "source": [
    "pip install pmdarima"
   ]
  },
  {
   "cell_type": "code",
   "execution_count": 2,
   "metadata": {},
   "outputs": [
    {
     "name": "stdout",
     "output_type": "stream",
     "text": [
      "Requirement already satisfied: lightgbm in /srv/conda/envs/notebook/lib/python3.7/site-packages (2.3.1)\n",
      "Requirement already satisfied: numpy in /srv/conda/envs/notebook/lib/python3.7/site-packages (from lightgbm) (1.18.5)\n",
      "Requirement already satisfied: scikit-learn in /srv/conda/envs/notebook/lib/python3.7/site-packages (from lightgbm) (0.23.2)\n",
      "Requirement already satisfied: scipy in /srv/conda/envs/notebook/lib/python3.7/site-packages (from lightgbm) (1.5.0)\n",
      "Requirement already satisfied: threadpoolctl>=2.0.0 in /srv/conda/envs/notebook/lib/python3.7/site-packages (from scikit-learn->lightgbm) (2.1.0)\n",
      "Requirement already satisfied: joblib>=0.11 in /srv/conda/envs/notebook/lib/python3.7/site-packages (from scikit-learn->lightgbm) (0.16.0)\n"
     ]
    }
   ],
   "source": [
    "!pip install lightgbm\n",
    "import time\t\n",
    "import warnings\n",
    "import numpy as np\n",
    "import pandas as pd \n",
    "import seaborn as sns \n",
    "import lightgbm as lgb\n",
    "from itertools import cycle\n",
    "from sklearn.svm import SVR\n",
    "import statsmodels.api as sm\n",
    "from pmdarima import auto_arima\n",
    "import matplotlib.pyplot as plt\n",
    "from datetime import datetime, timedelta\n",
    "from sklearn.metrics import mean_squared_error\n",
    "from sklearn.linear_model import LinearRegression\n",
    "from sklearn.ensemble import RandomForestRegressor\n",
    "from statsmodels.graphics.tsaplots import plot_acf\n",
    "from statsmodels.tsa.holtwinters import SimpleExpSmoothing, ExponentialSmoothing\n",
    "from pmdarima import auto_arima\n",
    "\n",
    "%matplotlib inline \n",
    "plt.style.use('bmh')\n",
    "sns.set_style(\"whitegrid\")\n",
    "plt.rc('xtick', labelsize=15) \n",
    "plt.rc('ytick', labelsize=15) \n",
    "warnings.filterwarnings(\"ignore\")\n",
    "pd.set_option('max_colwidth', 100)\n",
    "pd.set_option('display.max_rows', 500)\n",
    "pd.set_option('display.max_columns', 500)\n",
    "color_pal = plt.rcParams['axes.prop_cycle'].by_key()['color']\n",
    "color_cycle = cycle(plt.rcParams['axes.prop_cycle'].by_key()['color'])"
   ]
  },
  {
   "cell_type": "code",
   "execution_count": 3,
   "metadata": {},
   "outputs": [],
   "source": [
    "train= pd.read_csv('itemtrain.csv')\n",
    "end=pd.read_csv('itemtest.csv')"
   ]
  },
  {
   "cell_type": "code",
   "execution_count": 4,
   "metadata": {},
   "outputs": [],
   "source": [
    "train.Timestamp = pd.to_datetime(train.date,format='%m/%d/%Y') \n",
    "train.index = train.Timestamp \n",
    "end.Timestamp = pd.to_datetime(end.date,format='%m/%d/%Y') \n",
    "end.index = end.Timestamp "
   ]
  },
  {
   "cell_type": "code",
   "execution_count": 5,
   "metadata": {},
   "outputs": [],
   "source": [
    "stats = pd.DataFrame(columns=['Model Name','Execution Time','RMSE'])"
   ]
  },
  {
   "cell_type": "code",
   "execution_count": null,
   "metadata": {},
   "outputs": [
    {
     "name": "stdout",
     "output_type": "stream",
     "text": [
      "Performing stepwise search to minimize aic\n",
      " ARIMA(0,1,0)(1,0,1)[12] intercept   : AIC=9023.059, Time=25.83 sec\n",
      " ARIMA(0,1,0)(0,0,0)[12] intercept   : AIC=9023.653, Time=0.11 sec\n",
      " ARIMA(1,1,0)(1,0,0)[12] intercept   : AIC=8610.097, Time=16.88 sec\n",
      " ARIMA(0,1,1)(0,0,1)[12] intercept   : AIC=8271.179, Time=22.90 sec\n",
      " ARIMA(0,1,0)(0,0,0)[12]             : AIC=9021.653, Time=0.06 sec\n",
      " ARIMA(0,1,1)(0,0,0)[12] intercept   : AIC=8286.487, Time=0.75 sec\n",
      " ARIMA(0,1,1)(1,0,1)[12] intercept   : AIC=8270.295, Time=50.49 sec\n",
      " ARIMA(0,1,1)(1,0,0)[12] intercept   : AIC=8269.456, Time=23.60 sec\n",
      " ARIMA(0,1,1)(2,0,0)[12] intercept   : AIC=8269.444, Time=57.24 sec\n",
      " ARIMA(0,1,1)(2,0,1)[12] intercept   : AIC=8268.989, Time=82.99 sec\n",
      " ARIMA(0,1,1)(2,0,2)[12] intercept   : AIC=8266.224, Time=145.21 sec\n"
     ]
    }
   ],
   "source": [
    "t0 = time.time()\n",
    "model_name='SARIMA'\n",
    "sarima_model = auto_arima(train['sales'], start_p=0, start_q=0,\n",
    "                          max_p=14, max_q=3,\n",
    "                          seasonal=True, m=12,\n",
    "                          d=None, trace=True,random_state=2020,\n",
    "                          out_of_sample_size=365,\n",
    "                          error_action='ignore',   # we don't want to know if an order does not work\n",
    "                          suppress_warnings=True,  # we don't want convergence warnings\n",
    "                          stepwise=True)\n",
    "sarima_model.summary()"
   ]
  },
  {
   "cell_type": "code",
   "execution_count": null,
   "metadata": {},
   "outputs": [],
   "source": []
  },
  {
   "cell_type": "code",
   "execution_count": null,
   "metadata": {},
   "outputs": [],
   "source": []
  }
 ],
 "metadata": {
  "kernelspec": {
   "display_name": "Python 3",
   "language": "python",
   "name": "python3"
  },
  "language_info": {
   "codemirror_mode": {
    "name": "ipython",
    "version": 3
   },
   "file_extension": ".py",
   "mimetype": "text/x-python",
   "name": "python",
   "nbconvert_exporter": "python",
   "pygments_lexer": "ipython3",
   "version": "3.7.6"
  }
 },
 "nbformat": 4,
 "nbformat_minor": 4
}
